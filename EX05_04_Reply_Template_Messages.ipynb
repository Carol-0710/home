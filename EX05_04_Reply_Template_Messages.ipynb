{
  "cells": [
    {
      "cell_type": "markdown",
      "metadata": {
        "id": "view-in-github",
        "colab_type": "text"
      },
      "source": [
        "<a href=\"https://colab.research.google.com/github/Carol-0710/home/blob/main/EX05_04_Reply_Template_Messages.ipynb\" target=\"_parent\"><img src=\"https://colab.research.google.com/assets/colab-badge.svg\" alt=\"Open In Colab\"/></a>"
      ]
    },
    {
      "cell_type": "code",
      "execution_count": null,
      "metadata": {
        "colab": {
          "base_uri": "https://localhost:8080/"
        },
        "id": "w2o2COB4xhJx",
        "outputId": "449a4c86-5f2b-4d2b-b296-12fe362204f6"
      },
      "outputs": [
        {
          "name": "stdout",
          "output_type": "stream",
          "text": [
            "\u001b[?25l   \u001b[90m━━━━━━━━━━━━━━━━━━━━━━━━━━━━━━━━━━━━━━━━\u001b[0m \u001b[32m0.0/776.1 kB\u001b[0m \u001b[31m?\u001b[0m eta \u001b[36m-:--:--\u001b[0m\r\u001b[2K   \u001b[91m━━━━━━━━━━━━━━━━━━━━━━━━━━━━━━━━━━━━━━━\u001b[0m\u001b[91m╸\u001b[0m \u001b[32m768.0/776.1 kB\u001b[0m \u001b[31m26.4 MB/s\u001b[0m eta \u001b[36m0:00:01\u001b[0m\r\u001b[2K   \u001b[90m━━━━━━━━━━━━━━━━━━━━━━━━━━━━━━━━━━━━━━━━\u001b[0m \u001b[32m776.1/776.1 kB\u001b[0m \u001b[31m17.7 MB/s\u001b[0m eta \u001b[36m0:00:00\u001b[0m\n",
            "\u001b[?25h\u001b[?25l   \u001b[90m━━━━━━━━━━━━━━━━━━━━━━━━━━━━━━━━━━━━━━━━\u001b[0m \u001b[32m0.0/165.6 kB\u001b[0m \u001b[31m?\u001b[0m eta \u001b[36m-:--:--\u001b[0m\r\u001b[2K   \u001b[90m━━━━━━━━━━━━━━━━━━━━━━━━━━━━━━━━━━━━━━━━\u001b[0m \u001b[32m165.6/165.6 kB\u001b[0m \u001b[31m12.9 MB/s\u001b[0m eta \u001b[36m0:00:00\u001b[0m\n",
            "\u001b[?25h"
          ]
        }
      ],
      "source": [
        "!pip install -q pyngrok flask_ngrok\n",
        "!pip install -q flask pyngrok flask_ngrok line-bot-sdk"
      ]
    },
    {
      "cell_type": "code",
      "execution_count": null,
      "metadata": {
        "colab": {
          "base_uri": "https://localhost:8080/"
        },
        "id": "EoqQBGmEfMSO",
        "outputId": "4b671eae-0f01-4e77-95aa-9f8def6bb4e3"
      },
      "outputs": [
        {
          "output_type": "stream",
          "name": "stdout",
          "text": [
            " * Serving Flask app '__main__'\n",
            " * Debug mode: off\n"
          ]
        },
        {
          "output_type": "stream",
          "name": "stderr",
          "text": [
            "INFO:werkzeug:\u001b[31m\u001b[1mWARNING: This is a development server. Do not use it in a production deployment. Use a production WSGI server instead.\u001b[0m\n",
            " * Running on http://127.0.0.1:5000\n",
            "INFO:werkzeug:\u001b[33mPress CTRL+C to quit\u001b[0m\n"
          ]
        },
        {
          "output_type": "stream",
          "name": "stdout",
          "text": [
            " * Running on http://f02a-34-169-182-32.ngrok-free.app\n",
            " * Traffic stats available on http://127.0.0.1:4040\n"
          ]
        }
      ],
      "source": [
        "from google.colab import userdata\n",
        "from pyngrok import ngrok\n",
        "from flask_ngrok import run_with_ngrok\n",
        "def ngrok_start():\n",
        "    ngrok.set_auth_token(userdata.get('NGROK_AUTHTOKEN'))\n",
        "    ngrok.connect(5000)\n",
        "    run_with_ngrok(app)\n",
        "\n",
        "\n",
        "from flask import Flask, request, abort\n",
        "\n",
        "from linebot.v3 import WebhookHandler\n",
        "from linebot.v3.exceptions import InvalidSignatureError\n",
        "from linebot.v3.webhooks import MessageEvent, TextMessageContent\n",
        "from linebot.v3.messaging import (\n",
        "    Configuration, ApiClient, MessagingApi,\n",
        "    ReplyMessageRequest,\n",
        "    TextMessage\n",
        ")\n",
        "\n",
        "app = Flask(__name__)\n",
        "\n",
        "configuration = Configuration(access_token=userdata.get('LINE_CHANNEL_ACCESS_TOKEN'))\n",
        "handler = WebhookHandler(userdata.get('LINE_CHANNEL_SECRET'))\n",
        "\n",
        "@app.route(\"/callback\", methods=['POST'])\n",
        "def callback():\n",
        "    signature = request.headers['X-Line-Signature']\n",
        "    body = request.get_data(as_text=True)\n",
        "    try:\n",
        "        handler.handle(body, signature)\n",
        "    except InvalidSignatureError:\n",
        "        abort(400)\n",
        "    return 'OK'\n",
        "\n",
        "import google.generativeai as genai\n",
        "\n",
        "genai.configure(api_key=userdata.get('GOOGLE_API_KEY'))\n",
        "model = genai.GenerativeModel(\"gemini-2.0-flash\")\n",
        "def ask_gemini(question):\n",
        "    response = model.generate_content(question)\n",
        "    return response.text\n",
        "\n",
        "@handler.add(MessageEvent, message=TextMessageContent)\n",
        "def handle_message(event):\n",
        "    with ApiClient(configuration) as api_client:\n",
        "        line_bot_api = MessagingApi(api_client)\n",
        "\n",
        "        action = event.message. text\n",
        "        if action == 'confirm':\n",
        "          reply = TemplateMessage(\n",
        "            alt_text=\"早安你好呀\",\n",
        "            template=ConfirmTemplate(\n",
        "              text=\"你喜歡神奇寶貝裡的水躍魚嗎?\",\n",
        "              actions=[\n",
        "                MessageAction(label=\"是\", text=\"我超喜歡!\"),\n",
        "                MessageAction(label=\"否\", text=\"我不太熟悉。\")\n",
        "              ]\n",
        "            )\n",
        "          )\n",
        "\n",
        "        elif action == 'carousel':\n",
        "          carousel_template = CarouselTemplate(\n",
        "            columns=[\n",
        "              CarouselColumn(\n",
        "                thumbnail_image_url='https://upload.wikimedia.org/wikipedia/zh/5/50/Pokemon_the_first_movie.jpg?20081213142208',\n",
        "                title='神奇寶貝劇場版：超夢的逆襲',\n",
        "                text='是神奇寶貝動畫的第一部、同時也是關都聯盟唯一的電影版',\n",
        "                actions=[\n",
        "                    URIAction(label='維基百科',uri='https://zh.wikipedia.org/zh-tw/%E7%A5%9E%E5%A5%87%E5%AF%B6%E8%B2%9D%E5%8A%87%E5%A0%B4%E7%89%88%EF%BC%9A%E8%B6%85%E5%A4%A2%E7%9A%84%E9%80%86%E8%A5%B2'),\n",
        "                    MessageAction(label=\"投票\",text=\"我投超夢的逆襲一票!\")\n",
        "                ]\n",
        "              ),\n",
        "              CarouselColumn(\n",
        "                thumbnail_image_url='https://upload.wikimedia.org/wikipedia/zh/e/e8/Pokemon_the_Movie_20_poster.jpg',\n",
        "                title='就決定是你了！',\n",
        "                text='紀念精靈寶可夢系列20週年的作品',\n",
        "                actions=[\n",
        "                    URIAction(label='維基百科',uri='https://zh.wikipedia.org/zh-tw/%E5%8A%87%E5%A0%B4%E7%89%88_%E5%AF%B6%E5%8F%AF%E5%A4%A2_%E5%B0%B1%E6%B1%BA%E5%AE%9A%E6%98%AF%E4%BD%A0%E4%BA%86%EF%BC%81'),\n",
        "                    MessageAction(label=\"投票\",text=\"我投就決定是你了!一票!\")\n",
        "                ]\n",
        "              )\n",
        "            ]\n",
        "          )\n",
        "\n",
        "\n",
        "          reply = TemplateMessage(\n",
        "            alt_text=\"這是輪播視窗\",\n",
        "            template=carousel_template\n",
        "          )\n",
        "\n",
        "        else:\n",
        "          reply = TextMessage(text='Thanks!')\n",
        "\n",
        "        line_bot_api.reply_message(\n",
        "          ReplyMessageRequest(\n",
        "            reply_token=event.reply_token,\n",
        "            messages=[\n",
        "              reply\n",
        "            ]\n",
        "          )\n",
        "        )\n",
        "\n",
        "ngrok_start() # for colab\n",
        "if __name__ == \"__main__\":\n",
        "    app.run()"
      ]
    }
  ],
  "metadata": {
    "colab": {
      "provenance": [],
      "authorship_tag": "ABX9TyOm6bAsOQtd/RrbRhDDuymt",
      "include_colab_link": true
    },
    "kernelspec": {
      "display_name": "Python 3",
      "name": "python3"
    },
    "language_info": {
      "name": "python"
    }
  },
  "nbformat": 4,
  "nbformat_minor": 0
}